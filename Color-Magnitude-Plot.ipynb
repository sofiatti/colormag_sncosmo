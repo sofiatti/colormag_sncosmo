{
 "metadata": {
  "name": "",
  "signature": "sha256:09f32d624bbc8ae365a9ebcf38cb8fa4789b70c3645196602ff71350d923db9a"
 },
 "nbformat": 3,
 "nbformat_minor": 0,
 "worksheets": [
  {
   "cells": [
    {
     "cell_type": "heading",
     "level": 2,
     "metadata": {},
     "source": [
      "Assumptions & Code Specifications"
     ]
    },
    {
     "cell_type": "markdown",
     "metadata": {},
     "source": [
      "* FILTERS\n",
      "    - [F105W](http://www.stsci.edu/~WFC3/UVIS/SystemThroughput/f105w.IR.tab) \n",
      "    - [F140W](http://www.stsci.edu/~WFC3/UVIS/SystemThroughput/f140w.IR.tab)\n",
      "    - [F160W](http://www.stsci.edu/~WFC3/UVIS/SystemThroughput/f160w.IR.tab)\n",
      "* MODELS: \n",
      "    - TYPE Ia\n",
      "        - SNCosmo built in source 'salt2' version 2.4 [Betoule et al. 2014](http://arxiv.org/abs/1401.4064)\n",
      "        - x$_0$ = Depends on redshift. Gets special treatment.\n",
      "        - x$_1$ = 0 $\\pm$ 1 [Normal Distribution]\n",
      "        - C    = 0 $\\pm$ 0.1 [Normal Distribution]\n",
      "     - TYPE Ibc and Type II\n",
      "        - Used all of the available SNCosmo models. Nugent's were offline. [TO FIX]\n",
      "        - To deal with dust, used <pre>'hostebv': normal(0.,0.1), 'hostr_v': 3.4 </pre> \n",
      "        \n",
      "**Note:** The definition of phase depends on SNe model. Use: peakphase(band_or_wave[, sampling]\tThis determines phase of maximum flux for the given band/wavelength. For filter use 'bessellb'"
     ]
    },
    {
     "cell_type": "heading",
     "level": 2,
     "metadata": {},
     "source": [
      "Bandpasses for F105W and F140W"
     ]
    },
    {
     "cell_type": "code",
     "collapsed": false,
     "input": [
      "%matplotlib inline\n",
      "import numpy as np\n",
      "import sncosmo"
     ],
     "language": "python",
     "metadata": {},
     "outputs": [
      {
       "output_type": "stream",
       "stream": "stderr",
       "text": [
        "WARNING: AstropyDeprecationWarning: ConfigurationItem has been deprecated in astropy 0.4. Use ConfigItem objects as members of ConfigNamespace subclasses instead.  See ConfigNamespace for an example. [astropy.config.configuration]\n",
        "WARNING"
       ]
      },
      {
       "output_type": "stream",
       "stream": "stderr",
       "text": [
        ": AstropyDeprecationWarning: Since 0.4, config parameter 'astropy.utils.data.REMOTE_TIMEOUT' is deprecated. Use 'astropy.utils.data.conf.remote_timeout' instead. [astropy.config.configuration]\n"
       ]
      }
     ],
     "prompt_number": 1
    },
    {
     "cell_type": "code",
     "collapsed": false,
     "input": [
      "def filter2bandpass(filter_file):\n",
      "    \"\"\"Returns the sncosmo bandpass for an HST filter\"\"\"\n",
      "    filter = np.loadtxt(filter_file)\n",
      "    wavelength = filter[:,1]\n",
      "    transmission = filter[:,2]\n",
      "    #making cut so that bandpass [1700, .., 17000] is within spectral range [2550, .., 37995]\n",
      "    index1 = np.argmin((wavelength - 2550)**2)\n",
      "    wavelength = wavelength[index1:]\n",
      "    transmission = transmission[index1:]\n",
      "    band = sncosmo.Bandpass(wavelength, transmission, name=filter_file[:-4])\n",
      "    sncosmo.registry.register(band, force=True)\n",
      "    return\n"
     ],
     "language": "python",
     "metadata": {},
     "outputs": [],
     "prompt_number": 2
    },
    {
     "cell_type": "code",
     "collapsed": false,
     "input": [
      "#Only have to use once \n",
      "f105w = filter2bandpass('f105w.dat')\n",
      "f140w = filter2bandpass('f140w.dat')\n",
      "f160w = filter2bandpass('f160w.dat')"
     ],
     "language": "python",
     "metadata": {},
     "outputs": [],
     "prompt_number": 3
    },
    {
     "cell_type": "heading",
     "level": 2,
     "metadata": {},
     "source": [
      "Generating observed magnitudes"
     ]
    },
    {
     "cell_type": "heading",
     "level": 3,
     "metadata": {},
     "source": [
      "Type Ia, Ibc and II"
     ]
    },
    {
     "cell_type": "code",
     "collapsed": false,
     "input": [
      "from numpy.random import normal, randint"
     ],
     "language": "python",
     "metadata": {},
     "outputs": [],
     "prompt_number": 4
    },
    {
     "cell_type": "code",
     "collapsed": false,
     "input": [
      "t0 = 0\n",
      "hostr_v = 3.1 #For core collapse SNe\n",
      "dust = sncosmo.CCM89Dust() #For core collapse SNe\n",
      "\n",
      "def obsmag_Ia(filter, z, phase):\n",
      "    \"\"\"Given a filter, redshift z at given phase, generates the observed magnitude for SNe Type Ia\"\"\"    \n",
      "    #Type Ia model\n",
      "    model_Ia = sncosmo.Model(source=sncosmo.get_source('salt2-extended', version='1.0'))\n",
      "    \n",
      "    #Type Ia: Getting parameters for salt\n",
      "    mabs = normal(-19.3, 0.3)\n",
      "    model_Ia.set(z=z)\n",
      "    model_Ia.set_source_peakabsmag(mabs, 'bessellb', 'ab')\n",
      "    p = {'z':z, 't0':t0, 'x1': normal(0., 1.), 'c': normal(0., 0.1)}\n",
      "    model_Ia.set(**p)\n",
      "    obsmag_Ia = model_Ia.bandmag( filter, 'ab', t0+(phase/(1+z)) ) #Getting obser magnitude\n",
      "    return obsmag_Ia\n",
      "\n",
      "#Type Ibc and II models: using all models, except Nugent's because he moved his page. TO FIX.\n",
      "def obsmag_Ibc(filter, z, phase): \n",
      "    \"\"\"Given a filter, redshift z at given phase, generates the observed magnitude for SNe Type Ibc\"\"\"\n",
      "    model_Ibc = ['s11-2005hl', 's11-2005hm', 's11-2006fo', 's11-2006jo']\n",
      "    obsmag_Ibc = []\n",
      "    for i in model_Ibc:\n",
      "        model_i = sncosmo.Model(source=sncosmo.get_source(i), effects=[dust], effect_names=['host'], effect_frames=['rest'])\n",
      "        mabs = normal(-17.56, 0.4)\n",
      "        model_i.set(z=z)\n",
      "        model_i.set_source_peakabsmag(mabs, 'bessellb', 'ab')\n",
      "        p_core_collapse = {'z':z, 't0':t0, 'hostebv': normal(0.,0.1), 'hostr_v': hostr_v} #'hostebv': same as 'c' for salt for now. TO FIX.\n",
      "        model_i.set(**p_core_collapse)  \n",
      "        obsmag_i = model_i.bandmag( filter, 'ab', t0+(phase/(1+z)) ) #Getting observer magnitude\n",
      "        obsmag_Ibc.append(obsmag_i)\n",
      "    return obsmag_Ibc[randint(len(model_Ibc))] #Randomly returns only one of the different models\n",
      "\n",
      "def obsmag_II(filter, z, phase): \n",
      "    \"\"\"Given a filter, redshift z at given phase, generates the observed magnitude for SNe Type II\"\"\"\n",
      "    model_II = ['s11-2004hx','s11-2005lc', 's11-2005gi', 's11-2006jl']\n",
      "    obsmag_II = []\n",
      "    for i in model_II:\n",
      "        model_i = sncosmo.Model(source=sncosmo.get_source(i), effects=[dust], effect_names=['host'], effect_frames=['rest'])\n",
      "        if i == 's11-2004hx': \n",
      "            mabs = normal(-17.98, 0.34)\n",
      "        else:\n",
      "            mabs = normal(-16.75, 0.37)\n",
      "        model_i.set(z=z)\n",
      "        model_i.set_source_peakabsmag(mabs, 'bessellb', 'ab')\n",
      "        p_core_collapse = {'z':z, 't0':t0, 'hostebv': normal(0.,0.1), 'hostr_v': hostr_v} #'hostebv': same as 'c' for salt for now. TO FIX.\n",
      "        model_i.set(**p_core_collapse)  \n",
      "        obsmag_i = model_i.bandmag( filter, 'ab', t0+(phase/(1+z)) ) #Getting observer magnitude\n",
      "        obsmag_II.append(obsmag_i)\n",
      "    return obsmag_II[randint(len(model_II))] #Randomly returns only one of the different models"
     ],
     "language": "python",
     "metadata": {},
     "outputs": [],
     "prompt_number": 5
    },
    {
     "cell_type": "heading",
     "level": 2,
     "metadata": {},
     "source": [
      "Getting 1000 points: Monte Carlo Step"
     ]
    },
    {
     "cell_type": "code",
     "collapsed": false,
     "input": [
      "import math, random\n",
      "random.seed(11)\n",
      "\n",
      "def all_points(n, filter1, filter2, z, phase):\n",
      "    \"\"\"Returns 6 arrays. For each SNe type, one array for color: filter2 mag - filter1 mag and one array with the observed filter1 mag. In n loops, randomly selects one of type Ia, type Ibc or type II SNe.\"\"\"\n",
      "    type_Ia_mag = []\n",
      "    type_Ibc_mag = []\n",
      "    type_II_mag = []\n",
      "    \n",
      "    type_Ia_color = []\n",
      "    type_Ibc_color = []\n",
      "    type_II_color = []\n",
      "    \n",
      "    for i in range(n):\n",
      "        if random.random() > 2/3.:\n",
      "            my_obsmag_Ia_filter1 = obsmag_Ia(filter1, z, phase)\n",
      "            type_Ia_mag.append(my_obsmag_Ia_filter1)\n",
      "            \n",
      "            my_obsmag_Ia_filter2 = obsmag_Ia(filter2, z, phase)\n",
      "            type_Ia_color.append(my_obsmag_Ia_filter2 - my_obsmag_Ia_filter1)\n",
      "        elif random.random() > 1/3.:\n",
      "            my_obsmag_Ibc_filter1= obsmag_Ibc(filter1, z, phase)\n",
      "            type_Ibc_mag.append(my_obsmag_Ibc_filter1)\n",
      "            \n",
      "            my_obsmag_Ibc_filter2 = obsmag_Ia(filter2, z, phase)\n",
      "            type_Ibc_color.append(my_obsmag_Ibc_filter2 - my_obsmag_Ibc_filter1)\n",
      "        else:\n",
      "            my_obsmag_II_filter1 = obsmag_II(filter1, z, phase)\n",
      "            type_II_mag.append(my_obsmag_II_filter1)\n",
      "            \n",
      "            my_obsmag_II_filter2 = obsmag_II(filter2, z, phase)\n",
      "            type_II_color.append(my_obsmag_II_filter2 - my_obsmag_II_filter1)\n",
      "    return np.array(type_Ia_mag), np.array(type_Ibc_mag), np.array(type_II_mag), np.array(type_Ia_color), np.array(type_Ibc_color), np.array(type_II_color)\n"
     ],
     "language": "python",
     "metadata": {},
     "outputs": [],
     "prompt_number": 6
    },
    {
     "cell_type": "markdown",
     "metadata": {},
     "source": [
      "<h2> Saving results in a pkl file </h2>"
     ]
    },
    {
     "cell_type": "code",
     "collapsed": false,
     "input": [
      "import cPickle\n",
      "import gzip\n",
      "\n",
      "def save(object, filename, protocol=-1):\n",
      "    \"\"\"Saves a compressed object to disk\n",
      "    \"\"\"\n",
      "    file = gzip.GzipFile(filename, 'wb')\n",
      "    cPickle.dump(object, file, protocol)\n",
      "    file.close()"
     ],
     "language": "python",
     "metadata": {},
     "outputs": [],
     "prompt_number": 7
    },
    {
     "cell_type": "markdown",
     "metadata": {},
     "source": [
      "<h2>If resutls saved, getting data:</h2>"
     ]
    },
    {
     "cell_type": "code",
     "collapsed": false,
     "input": [
      "def load( filename ):\n",
      "    \"\"\"Loads a compressed object from disk\n",
      "    \"\"\"\n",
      "    file = gzip.GzipFile(filename, 'rb')\n",
      "    object = cPickle.load( file )\n",
      "    file.close()\n",
      "    return object"
     ],
     "language": "python",
     "metadata": {},
     "outputs": [],
     "prompt_number": 8
    },
    {
     "cell_type": "heading",
     "level": 2,
     "metadata": {},
     "source": [
      "Plot"
     ]
    },
    {
     "cell_type": "code",
     "collapsed": false,
     "input": [
      "def plot(n, filter1, filter2, z, phase):\n",
      "    type_Ia_mag, type_Ibc_mag, type_II_mag, type_Ia_color, type_Ibc_color, type_II_color = all_points(n, filter1, filter2, z, phase)\n",
      "    \n",
      "    import seaborn as sns\n",
      "    import matplotlib.pyplot as plt\n",
      "    from matplotlib import cm\n",
      "    sns.set(style=\"white\", palette=\"muted\")\n",
      "    sns.set_context(\"paper\", font_scale=1.5, rc={\"lines.linewidth\": 2.5})\n",
      "\n",
      "    g = sns.JointGrid(filter2.upper() + \" - \" + filter1.upper() + \" color\", filter1.upper() +\" magnitude\")\n",
      "    g.set_axis_labels(xlabel=filter2.upper() + \" - \" + filter1.upper() + \" color\", ylabel= filter1.upper() +\" magnitude\")\n",
      "\n",
      "    sns.kdeplot(type_Ia_color, ax=g.ax_marg_x, label=\"Type Ia\" )\n",
      "    sns.kdeplot(type_Ia_mag, ax=g.ax_marg_y, vertical=True, legend=False)\n",
      "    sns.kdeplot(type_Ia_color, type_Ia_mag, cut=5, ax=g.ax_joint, alpha = 0.8, cmap= 'Blues_d')\n",
      "\n",
      "    sns.kdeplot(type_Ibc_color, ax=g.ax_marg_x, label=\"Type Ibc\")\n",
      "    sns.kdeplot(type_Ibc_mag, ax=g.ax_marg_y, vertical=True, legend=False)\n",
      "    sns.kdeplot(type_Ibc_color, type_Ibc_mag, cut=5, ax=g.ax_joint, alpha=0.8, cmap = 'Greens_d')\n",
      "\n",
      "    sns.kdeplot(type_II_color, ax=g.ax_marg_x, label = \"Type II\")\n",
      "    sns.kdeplot(type_II_mag, ax=g.ax_marg_y, vertical=True, legend=False)\n",
      "    sns.kdeplot(type_II_color, type_II_mag, cut=5, ax=g.ax_joint, alpha = 0.8, cmap = 'Reds_d')\n",
      "\n",
      "    plt.legend()\n",
      "    return()"
     ],
     "language": "python",
     "metadata": {},
     "outputs": [],
     "prompt_number": 9
    },
    {
     "cell_type": "code",
     "collapsed": false,
     "input": [
      "from IPython.html.widgets import interact, FloatSliderWidget\n",
      "interact(plot, n=1000, filter1='f105w', filter2='f140w', \n",
      "         z = FloatSliderWidget(min=1.5, max=1.60, step=0.05, value=5.0), phase=(-10,10));"
     ],
     "language": "python",
     "metadata": {},
     "outputs": [
      {
       "ename": "ValueError",
       "evalue": "bandpass 'f105w' [2550, .., 17000] outside spectral range [6000, .., 89400]",
       "output_type": "pyerr",
       "traceback": [
        "\u001b[0;31m---------------------------------------------------------------------------\u001b[0m\n\u001b[0;31mValueError\u001b[0m                                Traceback (most recent call last)",
        "\u001b[0;32m<ipython-input-9-4406129f180b>\u001b[0m in \u001b[0;36mplot\u001b[0;34m(n, filter1, filter2, z, phase)\u001b[0m\n\u001b[1;32m      1\u001b[0m \u001b[0;32mdef\u001b[0m \u001b[0mplot\u001b[0m\u001b[0;34m(\u001b[0m\u001b[0mn\u001b[0m\u001b[0;34m,\u001b[0m \u001b[0mfilter1\u001b[0m\u001b[0;34m,\u001b[0m \u001b[0mfilter2\u001b[0m\u001b[0;34m,\u001b[0m \u001b[0mz\u001b[0m\u001b[0;34m,\u001b[0m \u001b[0mphase\u001b[0m\u001b[0;34m)\u001b[0m\u001b[0;34m:\u001b[0m\u001b[0;34m\u001b[0m\u001b[0m\n\u001b[0;32m----> 2\u001b[0;31m     \u001b[0mtype_Ia_mag\u001b[0m\u001b[0;34m,\u001b[0m \u001b[0mtype_Ibc_mag\u001b[0m\u001b[0;34m,\u001b[0m \u001b[0mtype_II_mag\u001b[0m\u001b[0;34m,\u001b[0m \u001b[0mtype_Ia_color\u001b[0m\u001b[0;34m,\u001b[0m \u001b[0mtype_Ibc_color\u001b[0m\u001b[0;34m,\u001b[0m \u001b[0mtype_II_color\u001b[0m \u001b[0;34m=\u001b[0m \u001b[0mall_points\u001b[0m\u001b[0;34m(\u001b[0m\u001b[0mn\u001b[0m\u001b[0;34m,\u001b[0m \u001b[0mfilter1\u001b[0m\u001b[0;34m,\u001b[0m \u001b[0mfilter2\u001b[0m\u001b[0;34m,\u001b[0m \u001b[0mz\u001b[0m\u001b[0;34m,\u001b[0m \u001b[0mphase\u001b[0m\u001b[0;34m)\u001b[0m\u001b[0;34m\u001b[0m\u001b[0m\n\u001b[0m\u001b[1;32m      3\u001b[0m \u001b[0;34m\u001b[0m\u001b[0m\n\u001b[1;32m      4\u001b[0m     \u001b[0;32mimport\u001b[0m \u001b[0mseaborn\u001b[0m \u001b[0;32mas\u001b[0m \u001b[0msns\u001b[0m\u001b[0;34m\u001b[0m\u001b[0m\n\u001b[1;32m      5\u001b[0m     \u001b[0;32mimport\u001b[0m \u001b[0mmatplotlib\u001b[0m\u001b[0;34m.\u001b[0m\u001b[0mpyplot\u001b[0m \u001b[0;32mas\u001b[0m \u001b[0mplt\u001b[0m\u001b[0;34m\u001b[0m\u001b[0m\n",
        "\u001b[0;32m<ipython-input-6-89c5b060976e>\u001b[0m in \u001b[0;36mall_points\u001b[0;34m(n, filter1, filter2, z, phase)\u001b[0m\n\u001b[1;32m     20\u001b[0m             \u001b[0mtype_Ia_color\u001b[0m\u001b[0;34m.\u001b[0m\u001b[0mappend\u001b[0m\u001b[0;34m(\u001b[0m\u001b[0mmy_obsmag_Ia_filter2\u001b[0m \u001b[0;34m-\u001b[0m \u001b[0mmy_obsmag_Ia_filter1\u001b[0m\u001b[0;34m)\u001b[0m\u001b[0;34m\u001b[0m\u001b[0m\n\u001b[1;32m     21\u001b[0m         \u001b[0;32melif\u001b[0m \u001b[0mrandom\u001b[0m\u001b[0;34m.\u001b[0m\u001b[0mrandom\u001b[0m\u001b[0;34m(\u001b[0m\u001b[0;34m)\u001b[0m \u001b[0;34m>\u001b[0m \u001b[0;36m1\u001b[0m\u001b[0;34m/\u001b[0m\u001b[0;36m3.\u001b[0m\u001b[0;34m:\u001b[0m\u001b[0;34m\u001b[0m\u001b[0m\n\u001b[0;32m---> 22\u001b[0;31m             \u001b[0mmy_obsmag_Ibc_filter1\u001b[0m\u001b[0;34m=\u001b[0m \u001b[0mobsmag_Ibc\u001b[0m\u001b[0;34m(\u001b[0m\u001b[0mfilter1\u001b[0m\u001b[0;34m,\u001b[0m \u001b[0mz\u001b[0m\u001b[0;34m,\u001b[0m \u001b[0mphase\u001b[0m\u001b[0;34m)\u001b[0m\u001b[0;34m\u001b[0m\u001b[0m\n\u001b[0m\u001b[1;32m     23\u001b[0m             \u001b[0mtype_Ibc_mag\u001b[0m\u001b[0;34m.\u001b[0m\u001b[0mappend\u001b[0m\u001b[0;34m(\u001b[0m\u001b[0mmy_obsmag_Ibc_filter1\u001b[0m\u001b[0;34m)\u001b[0m\u001b[0;34m\u001b[0m\u001b[0m\n\u001b[1;32m     24\u001b[0m \u001b[0;34m\u001b[0m\u001b[0m\n",
        "\u001b[0;32m<ipython-input-5-56a9fadff5c8>\u001b[0m in \u001b[0;36mobsmag_Ibc\u001b[0;34m(filter, z, phase)\u001b[0m\n\u001b[1;32m     29\u001b[0m         \u001b[0mp_core_collapse\u001b[0m \u001b[0;34m=\u001b[0m \u001b[0;34m{\u001b[0m\u001b[0;34m'z'\u001b[0m\u001b[0;34m:\u001b[0m\u001b[0mz\u001b[0m\u001b[0;34m,\u001b[0m \u001b[0;34m't0'\u001b[0m\u001b[0;34m:\u001b[0m\u001b[0mt0\u001b[0m\u001b[0;34m,\u001b[0m \u001b[0;34m'hostebv'\u001b[0m\u001b[0;34m:\u001b[0m \u001b[0mnormal\u001b[0m\u001b[0;34m(\u001b[0m\u001b[0;36m0.\u001b[0m\u001b[0;34m,\u001b[0m\u001b[0;36m0.1\u001b[0m\u001b[0;34m)\u001b[0m\u001b[0;34m,\u001b[0m \u001b[0;34m'hostr_v'\u001b[0m\u001b[0;34m:\u001b[0m \u001b[0mhostr_v\u001b[0m\u001b[0;34m}\u001b[0m \u001b[0;31m#'hostebv': same as 'c' for salt for now. TO FIX.\u001b[0m\u001b[0;34m\u001b[0m\u001b[0m\n\u001b[1;32m     30\u001b[0m         \u001b[0mmodel_i\u001b[0m\u001b[0;34m.\u001b[0m\u001b[0mset\u001b[0m\u001b[0;34m(\u001b[0m\u001b[0;34m**\u001b[0m\u001b[0mp_core_collapse\u001b[0m\u001b[0;34m)\u001b[0m\u001b[0;34m\u001b[0m\u001b[0m\n\u001b[0;32m---> 31\u001b[0;31m         \u001b[0mobsmag_i\u001b[0m \u001b[0;34m=\u001b[0m \u001b[0mmodel_i\u001b[0m\u001b[0;34m.\u001b[0m\u001b[0mbandmag\u001b[0m\u001b[0;34m(\u001b[0m \u001b[0mfilter\u001b[0m\u001b[0;34m,\u001b[0m \u001b[0;34m'ab'\u001b[0m\u001b[0;34m,\u001b[0m \u001b[0mt0\u001b[0m\u001b[0;34m+\u001b[0m\u001b[0;34m(\u001b[0m\u001b[0mphase\u001b[0m\u001b[0;34m/\u001b[0m\u001b[0;34m(\u001b[0m\u001b[0;36m1\u001b[0m\u001b[0;34m+\u001b[0m\u001b[0mz\u001b[0m\u001b[0;34m)\u001b[0m\u001b[0;34m)\u001b[0m \u001b[0;34m)\u001b[0m \u001b[0;31m#Getting observer magnitude\u001b[0m\u001b[0;34m\u001b[0m\u001b[0m\n\u001b[0m\u001b[1;32m     32\u001b[0m         \u001b[0mobsmag_Ibc\u001b[0m\u001b[0;34m.\u001b[0m\u001b[0mappend\u001b[0m\u001b[0;34m(\u001b[0m\u001b[0mobsmag_i\u001b[0m\u001b[0;34m)\u001b[0m\u001b[0;34m\u001b[0m\u001b[0m\n\u001b[1;32m     33\u001b[0m     \u001b[0;32mreturn\u001b[0m \u001b[0mobsmag_Ibc\u001b[0m\u001b[0;34m[\u001b[0m\u001b[0mrandint\u001b[0m\u001b[0;34m(\u001b[0m\u001b[0mlen\u001b[0m\u001b[0;34m(\u001b[0m\u001b[0mmodel_Ibc\u001b[0m\u001b[0;34m)\u001b[0m\u001b[0;34m)\u001b[0m\u001b[0;34m]\u001b[0m \u001b[0;31m#Randomly returns only one of the different models\u001b[0m\u001b[0;34m\u001b[0m\u001b[0m\n",
        "\u001b[0;32m/Users/carolinesofiatti/anaconda/lib/python2.7/site-packages/sncosmo/models.pyc\u001b[0m in \u001b[0;36mbandmag\u001b[0;34m(self, band, magsys, time)\u001b[0m\n\u001b[1;32m   1112\u001b[0m             \u001b[0mThe\u001b[0m \u001b[0;32mreturn\u001b[0m \u001b[0mvalue\u001b[0m \u001b[0;32mis\u001b[0m \u001b[0man\u001b[0m \u001b[0;34m`\u001b[0m\u001b[0;34m~\u001b[0m\u001b[0mnumpy\u001b[0m\u001b[0;34m.\u001b[0m\u001b[0mndarray\u001b[0m\u001b[0;34m`\u001b[0m \u001b[0;32mif\u001b[0m \u001b[0many\u001b[0m \u001b[0mare\u001b[0m \u001b[0minterable\u001b[0m\u001b[0;34m.\u001b[0m\u001b[0;34m\u001b[0m\u001b[0m\n\u001b[1;32m   1113\u001b[0m         \"\"\"\n\u001b[0;32m-> 1114\u001b[0;31m         \u001b[0;32mreturn\u001b[0m \u001b[0m_bandmag\u001b[0m\u001b[0;34m(\u001b[0m\u001b[0mself\u001b[0m\u001b[0;34m,\u001b[0m \u001b[0mband\u001b[0m\u001b[0;34m,\u001b[0m \u001b[0mmagsys\u001b[0m\u001b[0;34m,\u001b[0m \u001b[0mtime\u001b[0m\u001b[0;34m)\u001b[0m\u001b[0;34m\u001b[0m\u001b[0m\n\u001b[0m\u001b[1;32m   1115\u001b[0m \u001b[0;34m\u001b[0m\u001b[0m\n\u001b[1;32m   1116\u001b[0m     \u001b[0;32mdef\u001b[0m \u001b[0msource_peakabsmag\u001b[0m\u001b[0;34m(\u001b[0m\u001b[0mself\u001b[0m\u001b[0;34m,\u001b[0m \u001b[0mband\u001b[0m\u001b[0;34m,\u001b[0m \u001b[0mmagsys\u001b[0m\u001b[0;34m,\u001b[0m \u001b[0mcosmo\u001b[0m\u001b[0;34m=\u001b[0m\u001b[0mcosmology\u001b[0m\u001b[0;34m.\u001b[0m\u001b[0mWMAP9\u001b[0m\u001b[0;34m)\u001b[0m\u001b[0;34m:\u001b[0m\u001b[0;34m\u001b[0m\u001b[0m\n",
        "\u001b[0;32m/Users/carolinesofiatti/anaconda/lib/python2.7/site-packages/sncosmo/models.pyc\u001b[0m in \u001b[0;36m_bandmag\u001b[0;34m(model, band, magsys, time_or_phase)\u001b[0m\n\u001b[1;32m    152\u001b[0m     \u001b[0mSource\u001b[0m \u001b[0;32mand\u001b[0m \u001b[0;34m`\u001b[0m\u001b[0;34m`\u001b[0m\u001b[0mtime\u001b[0m\u001b[0;34m`\u001b[0m\u001b[0;34m`\u001b[0m \u001b[0;32mis\u001b[0m \u001b[0mused\u001b[0m \u001b[0;32min\u001b[0m \u001b[0mModel\u001b[0m\u001b[0;34m.\u001b[0m\u001b[0;34m\u001b[0m\u001b[0m\n\u001b[1;32m    153\u001b[0m     \"\"\"\n\u001b[0;32m--> 154\u001b[0;31m     \u001b[0mbandflux\u001b[0m \u001b[0;34m=\u001b[0m \u001b[0m_bandflux\u001b[0m\u001b[0;34m(\u001b[0m\u001b[0mmodel\u001b[0m\u001b[0;34m,\u001b[0m \u001b[0mband\u001b[0m\u001b[0;34m,\u001b[0m \u001b[0mtime_or_phase\u001b[0m\u001b[0;34m,\u001b[0m \u001b[0mNone\u001b[0m\u001b[0;34m,\u001b[0m \u001b[0mNone\u001b[0m\u001b[0;34m)\u001b[0m\u001b[0;34m\u001b[0m\u001b[0m\n\u001b[0m\u001b[1;32m    155\u001b[0m     \u001b[0mband\u001b[0m\u001b[0;34m,\u001b[0m \u001b[0mmagsys\u001b[0m\u001b[0;34m,\u001b[0m \u001b[0mbandflux\u001b[0m \u001b[0;34m=\u001b[0m \u001b[0mnp\u001b[0m\u001b[0;34m.\u001b[0m\u001b[0mbroadcast_arrays\u001b[0m\u001b[0;34m(\u001b[0m\u001b[0mband\u001b[0m\u001b[0;34m,\u001b[0m \u001b[0mmagsys\u001b[0m\u001b[0;34m,\u001b[0m \u001b[0mbandflux\u001b[0m\u001b[0;34m)\u001b[0m\u001b[0;34m\u001b[0m\u001b[0m\n\u001b[1;32m    156\u001b[0m     \u001b[0mreturn_scalar\u001b[0m \u001b[0;34m=\u001b[0m \u001b[0;34m(\u001b[0m\u001b[0mband\u001b[0m\u001b[0;34m.\u001b[0m\u001b[0mndim\u001b[0m \u001b[0;34m==\u001b[0m \u001b[0;36m0\u001b[0m\u001b[0;34m)\u001b[0m\u001b[0;34m\u001b[0m\u001b[0m\n",
        "\u001b[0;32m/Users/carolinesofiatti/anaconda/lib/python2.7/site-packages/sncosmo/models.pyc\u001b[0m in \u001b[0;36m_bandflux\u001b[0;34m(model, band, time_or_phase, zp, zpsys)\u001b[0m\n\u001b[1;32m    126\u001b[0m                 \u001b[0;34m'outside spectral range [{3:.6g}, .., {4:.6g}]'\u001b[0m\u001b[0;34m\u001b[0m\u001b[0m\n\u001b[1;32m    127\u001b[0m                 .format(b.name, b.wave[0], b.wave[-1], \n\u001b[0;32m--> 128\u001b[0;31m                         model.minwave(), model.maxwave()))\n\u001b[0m\u001b[1;32m    129\u001b[0m \u001b[0;34m\u001b[0m\u001b[0m\n\u001b[1;32m    130\u001b[0m         \u001b[0;31m# Get the flux\u001b[0m\u001b[0;34m\u001b[0m\u001b[0;34m\u001b[0m\u001b[0m\n",
        "\u001b[0;31mValueError\u001b[0m: bandpass 'f105w' [2550, .., 17000] outside spectral range [6000, .., 89400]"
       ]
      }
     ],
     "prompt_number": 10
    }
   ],
   "metadata": {}
  }
 ]
}